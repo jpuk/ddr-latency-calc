{
 "cells": [
  {
   "cell_type": "code",
   "execution_count": 1,
   "metadata": {},
   "outputs": [],
   "source": [
    "from tabulate import tabulate"
   ]
  },
  {
   "cell_type": "code",
   "execution_count": 16,
   "metadata": {},
   "outputs": [],
   "source": [
    "class MemoryCalc:\n",
    "    \n",
    "    def __init__(self, freqs=None, cls=None, rounding=2, sortby=2):\n",
    "        self.magic = 2000\n",
    "        if freqs:\n",
    "            self.speeds = freqs\n",
    "        else:\n",
    "            self.speeds = [2400, 3000, 3200, 3333, 3433, 3600, 4000]\n",
    "        if cls:\n",
    "            self.cls = cls\n",
    "        else:\n",
    "            self.cls = [14,15,16,17,18]\n",
    "            \n",
    "        self.results_list = []\n",
    "        \n",
    "    \n",
    "        self.calculateResults(rounding)\n",
    "        self.sortResult(sortby)\n",
    "        self.printTable(self.results_list)\n",
    "        \n",
    "    #def memcalc(self, speed, cl):\n",
    "    #    return ((cl * self.magic) / speed)\n",
    "    # just for fun\n",
    "    memcalc = lambda self, speed, cl: ((cl * self.magic) / speed)\n",
    "    \n",
    "    def calculateResults(self, rounding):\n",
    "        for cl in self.cls:\n",
    "            for speed in self.speeds:\n",
    "                result = self.memcalc(speed, cl)\n",
    "                self.results_list.append((speed, cl, round(result, rounding)))\n",
    "            \n",
    "    def sortResult(self, by):\n",
    "        ''' 0 for freq, 1 for cl and 2 for latency'''\n",
    "        self.results_list.sort(key=lambda x: x[by])\n",
    "        \n",
    "    def resultForFreq(self, freq):\n",
    "        freq_list = []\n",
    "        for result in self.results_list:\n",
    "            if result[0] == freq:\n",
    "                freq_list.append(result)\n",
    "        self.printTable(freq_list)\n",
    "    \n",
    "    def resultForCl(self, cl):\n",
    "        cl_list = []\n",
    "        for result in self.results_list:\n",
    "            if result[1] == cl:\n",
    "                cl_list.append(result)\n",
    "        self.printTable(cl_list)\n",
    "        \n",
    "    def printResults(self):\n",
    "        for result in self.results_list:\n",
    "            print(\"Frequecny: {}, CL: {}, Latency: {}ms\".format(result[0], result[1],result[2]))\n",
    "    \n",
    "    def printTable(self, table):\n",
    "        print(tabulate(table, headers=['Frequency', 'CL', \"Latency (ms)\"]))"
   ]
  },
  {
   "cell_type": "code",
   "execution_count": 17,
   "metadata": {},
   "outputs": [
    {
     "name": "stdout",
     "output_type": "stream",
     "text": [
      "  Frequency    CL    Latency (ms)\n",
      "-----------  ----  --------------\n",
      "       4000    14           7\n",
      "       4000    15           7.5\n",
      "       3600    14           7.778\n",
      "       4000    16           8\n",
      "       3433    14           8.156\n",
      "       3600    15           8.333\n",
      "       3333    14           8.401\n",
      "       4000    17           8.5\n",
      "       3433    15           8.739\n",
      "       3200    14           8.75\n",
      "       3600    16           8.889\n",
      "       4000    18           9\n",
      "       3333    15           9.001\n",
      "       3433    16           9.321\n",
      "       3000    14           9.333\n",
      "       3200    15           9.375\n",
      "       3600    17           9.444\n",
      "       3333    16           9.601\n",
      "       3433    17           9.904\n",
      "       3000    15          10\n",
      "       3200    16          10\n",
      "       3600    18          10\n",
      "       3333    17          10.201\n",
      "       3433    18          10.486\n",
      "       3200    17          10.625\n",
      "       3000    16          10.667\n",
      "       3333    18          10.801\n",
      "       3200    18          11.25\n",
      "       3000    17          11.333\n",
      "       2400    14          11.667\n",
      "       3000    18          12\n",
      "       2400    15          12.5\n",
      "       2400    16          13.333\n",
      "       2400    17          14.167\n",
      "       2400    18          15\n"
     ]
    }
   ],
   "source": [
    "mc = MemoryCalc(rounding=3)"
   ]
  },
  {
   "cell_type": "code",
   "execution_count": 18,
   "metadata": {},
   "outputs": [
    {
     "name": "stdout",
     "output_type": "stream",
     "text": [
      "  Frequency    CL    Latency (ms)\n",
      "-----------  ----  --------------\n",
      "       3000    14           9.333\n",
      "       3000    15          10\n",
      "       3000    16          10.667\n",
      "       3000    17          11.333\n",
      "       3000    18          12\n"
     ]
    }
   ],
   "source": [
    "mc.resultForFreq(3000)"
   ]
  },
  {
   "cell_type": "code",
   "execution_count": 19,
   "metadata": {},
   "outputs": [
    {
     "name": "stdout",
     "output_type": "stream",
     "text": [
      "  Frequency    CL    Latency (ms)\n",
      "-----------  ----  --------------\n",
      "       4000    15           7.5\n",
      "       3600    15           8.333\n",
      "       3433    15           8.739\n",
      "       3333    15           9.001\n",
      "       3200    15           9.375\n",
      "       3000    15          10\n",
      "       2400    15          12.5\n"
     ]
    }
   ],
   "source": [
    "mc.resultForCl(15)"
   ]
  },
  {
   "cell_type": "code",
   "execution_count": 21,
   "metadata": {},
   "outputs": [
    {
     "name": "stdout",
     "output_type": "stream",
     "text": [
      "  Frequency    CL    Latency (ms)\n",
      "-----------  ----  --------------\n",
      "       3600    15            8.33\n",
      "       3600    16            8.89\n"
     ]
    }
   ],
   "source": [
    "mc1 = MemoryCalc([3600],[16,15])"
   ]
  },
  {
   "cell_type": "code",
   "execution_count": null,
   "metadata": {},
   "outputs": [],
   "source": []
  }
 ],
 "metadata": {
  "kernelspec": {
   "display_name": "Python 3",
   "language": "python",
   "name": "python3"
  },
  "language_info": {
   "codemirror_mode": {
    "name": "ipython",
    "version": 3
   },
   "file_extension": ".py",
   "mimetype": "text/x-python",
   "name": "python",
   "nbconvert_exporter": "python",
   "pygments_lexer": "ipython3",
   "version": "3.7.5"
  }
 },
 "nbformat": 4,
 "nbformat_minor": 4
}
